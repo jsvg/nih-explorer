{
 "cells": [
  {
   "cell_type": "markdown",
   "metadata": {},
   "source": [
    "<div style=\"background: GRAY\">\n",
    "<div style=\"text-align: center\">\n",
    "<br>\n",
    "<h1>ETL Preparation</h1>\n",
    "<h4>Import packages, load data, define helper functions</h4>\n",
    "<br>\n",
    "</div></div>"
   ]
  },
  {
   "cell_type": "markdown",
   "metadata": {},
   "source": [
    "## Imports and loading"
   ]
  },
  {
   "cell_type": "code",
   "execution_count": 1,
   "metadata": {
    "collapsed": false
   },
   "outputs": [
    {
     "data": {
      "text/html": [
       "<style>.container { width:100%; }</style>"
      ],
      "text/plain": [
       "<IPython.core.display.HTML object>"
      ]
     },
     "execution_count": 1,
     "metadata": {},
     "output_type": "execute_result"
    }
   ],
   "source": [
    "# custom styling\n",
    "from IPython.core.display import HTML\n",
    "HTML('''<style>.container { width:100%; }</style>''')"
   ]
  },
  {
   "cell_type": "code",
   "execution_count": 3,
   "metadata": {
    "collapsed": true
   },
   "outputs": [],
   "source": [
    "from pymongo import MongoClient\n",
    "client = MongoClient()\n",
    "client = MongoClient(\"mongodb://localhost:27017\")\n",
    "db = client.reporter"
   ]
  },
  {
   "cell_type": "code",
   "execution_count": 7,
   "metadata": {
    "collapsed": true
   },
   "outputs": [],
   "source": [
    "def loadDF(df, collectionName, dropFirst=True):\n",
    "    if dropFirst:\n",
    "        db[collectionName].drop()\n",
    "    db[collectionName].insert_many(df.to_dict(orient='records'))\n",
    "    print 'Successfully loaded:', collectionName"
   ]
  },
  {
   "cell_type": "code",
   "execution_count": 6,
   "metadata": {
    "collapsed": true
   },
   "outputs": [],
   "source": [
    "import pandas as pd"
   ]
  },
  {
   "cell_type": "code",
   "execution_count": 688,
   "metadata": {
    "collapsed": true
   },
   "outputs": [],
   "source": [
    "df12raw = pd.read_excel('RePORTER_PRJ_C_FY2012.xlsx')\n",
    "df12 = df12raw.copy()"
   ]
  },
  {
   "cell_type": "code",
   "execution_count": 687,
   "metadata": {
    "collapsed": true
   },
   "outputs": [],
   "source": [
    "df15raw = pd.read_excel('RePORTER_PRJ_C_FY2015.xlsx')\n",
    "df15 = df15raw.copy()"
   ]
  },
  {
   "cell_type": "markdown",
   "metadata": {},
   "source": [
    "<div style=\"background: linen\">\n",
    "<div style=\"text-align: center\">\n",
    "<br>\n",
    "<h1>DATA CLEANING</h1>\n",
    "<h4>Transformations to reformat &, || reorganize</h4>\n",
    "<br>\n",
    "</div></div>"
   ]
  },
  {
   "cell_type": "markdown",
   "metadata": {},
   "source": [
    "### Funding IC Names and Dollars Contrib'd"
   ]
  },
  {
   "cell_type": "code",
   "execution_count": 918,
   "metadata": {
    "collapsed": false
   },
   "outputs": [],
   "source": [
    "# parse the IC names and costs into an array\n",
    "def fundingSplitter(icArray):\n",
    "    icArray = str(icArray).split('''\\\\''')\n",
    "    extractedICs = []\n",
    "    for ic in icArray:\n",
    "        if ic:\n",
    "            tmp = ic.split(''':''')\n",
    "            icName = tmp[0] if tmp[0] else ''\n",
    "            cost = tmp[1] if len(tmp)>1 else 0\n",
    "            extractedICs.append({'IC': icName, 'Cost': cost})\n",
    "    return extractedICs\n",
    "df12['FUNDING_PARSED'] = df12.FUNDING_ICs.apply(fundingSplitter)\n",
    "df15['FUNDING_PARSED'] = df15.FUNDING_ICs.apply(fundingSplitter)\n",
    "df12 = df12.drop('FUNDING_ICs', axis=1)\n",
    "df15 = df15.drop('FUNDING_ICs', axis=1)"
   ]
  },
  {
   "cell_type": "markdown",
   "metadata": {},
   "source": [
    "### Projects with Sub Project records have a sub-total row with Total Cost\n",
    "*These sub-total rows need to be removed*"
   ]
  },
  {
   "cell_type": "code",
   "execution_count": 919,
   "metadata": {
    "collapsed": true
   },
   "outputs": [],
   "source": [
    "# need to know whether there are subprojects to remove the total_cost row which will cause cost duplication\n",
    "nSubProjects = df15[['FULL_PROJECT_NUM','TOTAL_COST_SUB_PROJECT']]\\\n",
    "    .groupby('FULL_PROJECT_NUM')\\\n",
    "    .apply(lambda proj: proj['TOTAL_COST_SUB_PROJECT'].nunique())\\\n",
    "    .sort_values(ascending=False)\\\n",
    "    .reset_index()\\\n",
    "    .rename(columns={0: 'subProjects'})\n",
    "# merge in nSubs\n",
    "df15 = df15.merge(nSubProjects, how='left')\n",
    "# filter out total cost rows of projects with existing subprojects\n",
    "df15 = df15[((df15.subProjects>0) & (df15.TOTAL_COST.isnull())) | (df15.subProjects==0)].drop('subProjects', axis=1)"
   ]
  },
  {
   "cell_type": "markdown",
   "metadata": {},
   "source": [
    "### Spending Categories and Project Terms"
   ]
  },
  {
   "cell_type": "code",
   "execution_count": 920,
   "metadata": {
    "collapsed": false
   },
   "outputs": [],
   "source": [
    "def termSplitter(arr):\n",
    "    terms = str(arr).split(';') if not pd.isnull(arr) else []\n",
    "    return [term.lower().strip() for term in terms]\n",
    "df12['NIH_SPENDING_CATS_PARSED'] = df12.NIH_SPENDING_CATS.map(termSplitter)\n",
    "df12['PROJECT_TERMS_PARSED'] = df12.PROJECT_TERMS.map(termSplitter)\n",
    "df15['NIH_SPENDING_CATS_PARSED'] = df12.NIH_SPENDING_CATS.map(termSplitter)\n",
    "df15['PROJECT_TERMS_PARSED'] = df12.PROJECT_TERMS.map(termSplitter)\n",
    "df12 = df12.drop(['NIH_SPENDING_CATS','PROJECT_TERMS'], axis=1)\n",
    "df15 = df15.drop(['NIH_SPENDING_CATS','PROJECT_TERMS'], axis=1)"
   ]
  },
  {
   "cell_type": "markdown",
   "metadata": {},
   "source": [
    "### Researchers and PI IDs"
   ]
  },
  {
   "cell_type": "code",
   "execution_count": 921,
   "metadata": {
    "collapsed": false
   },
   "outputs": [],
   "source": [
    "# can use termSplitter() as well\n",
    "df12['PI_NAMES_PARSED'] = df12.PI_NAMEs.map(lambda name: name.encode('utf-8')).map(termSplitter)\n",
    "df12['PI_IDS_PARSED'] = df12.PI_IDS.map(lambda name: name.encode('utf-8')).map(termSplitter)\n",
    "df15['PI_NAMES_PARSED'] = df15.PI_NAMEs.map(lambda name: name.encode('utf-8')).map(termSplitter)\n",
    "df15['PI_IDS_PARSED'] = df15.PI_IDS.map(lambda name: name.encode('utf-8')).map(termSplitter)\n",
    "df12 = df12.drop('PI_NAMEs', axis=1)\n",
    "df15 = df15.drop('PI_NAMEs', axis=1)"
   ]
  },
  {
   "cell_type": "markdown",
   "metadata": {},
   "source": [
    "<div style=\"background: steelblue\">\n",
    "<div style=\"text-align: center\">\n",
    "<br>\n",
    "<h1>MODELING</h1>\n",
    "<h4>Define, extract model, load into mongo</h4>\n",
    "<br>\n",
    "</div></div>"
   ]
  },
  {
   "cell_type": "markdown",
   "metadata": {},
   "source": [
    "### For FY15 only right now"
   ]
  },
  {
   "cell_type": "code",
   "execution_count": 922,
   "metadata": {
    "collapsed": true
   },
   "outputs": [],
   "source": [
    "df = df15"
   ]
  },
  {
   "cell_type": "markdown",
   "metadata": {},
   "source": [
    "<div style=\"background: lightgreen\">\n",
    "<h3>Model: Spending Categories, Project Terms (dfSpendingCats, dfProjectTerms)</h3>\n",
    "</div>\n",
    "Project Terms is 1.6M records large... leaving out for now"
   ]
  },
  {
   "cell_type": "code",
   "execution_count": 923,
   "metadata": {
    "collapsed": true
   },
   "outputs": [],
   "source": [
    "def getUniqueFromSeriesOfArrays(df, column):\n",
    "    items = []\n",
    "    series = df[df[column].map(lambda r: True if len(r) else False)][column] # filter empty arrays\n",
    "    series.map(lambda arr: map(lambda i: items.append(i), arr)) # fill items array\n",
    "    uniques = [i for i in list(set(items)) if i] # return only real values\n",
    "    uniques.sort()\n",
    "    return uniques"
   ]
  },
  {
   "cell_type": "code",
   "execution_count": 924,
   "metadata": {
    "collapsed": false
   },
   "outputs": [],
   "source": [
    "# get unique spending categories, and project terms\n",
    "dfSpendingCats = pd.DataFrame(getUniqueFromSeriesOfArrays(df, 'NIH_SPENDING_CATS_PARSED'), columns=['TERM']).reset_index().rename(columns={\"index\":\"_id\"})\n",
    "#dfProjectTerms = pd.DataFrame(getUniqueFromSeriesOfArrays(df, 'PROJECT_TERMS_PARSED'), columns=['term']).reset_index().rename(columns={\"index\":\"_id\"})"
   ]
  },
  {
   "cell_type": "code",
   "execution_count": 925,
   "metadata": {
    "collapsed": false
   },
   "outputs": [],
   "source": [
    "# map grants to spending cats/proj terms\n",
    "dfSpendingCats['GRANTS'] = dfSpendingCats.TERM.map(lambda term: df['APPLICATION_ID'][df.NIH_SPENDING_CATS_PARSED.map(lambda l: term in l)].tolist())\n",
    "#dfProjectTerms['GRANTS'] = dfProjectTerms.term.map(lambda term: df['APPLICATION_ID'][df.PROJECT_TERMS_PARSED.map(lambda l: term in l)].tolist())"
   ]
  },
  {
   "cell_type": "code",
   "execution_count": 927,
   "metadata": {
    "collapsed": true
   },
   "outputs": [],
   "source": [
    "# map dfSpendingCats/dfProjectTerms._id --> df [long processing time (hrs)]\n",
    "def mapDFArrayToRef(dfArray, refDf):\n",
    "    if dfArray:\n",
    "        return [int(refDf.query('TERM == @cat')['_id'].values[0]) for cat in dfArray if cat]\n",
    "    else:\n",
    "        return []\n",
    "df['SPENDING_CATEGORIES'] = df.NIH_SPENDING_CATS_PARSED.map(lambda spendingArray: mapDFArrayToRef(spendingArray, dfSpendingCats))\n",
    "#df['PROJECT_TERMS'] = df.PROJECT_TERMS_PARSED.map(lambda spendingArray: mapDFArrayToRef(spendingArray, dfProjectTerms))\n",
    "df = df.drop('NIH_SPENDING_CATS_PARSED', axis=1)\n",
    "#df = df.drop('PROJECT_TERMS_PARSED', axis=1)"
   ]
  },
  {
   "cell_type": "code",
   "execution_count": 928,
   "metadata": {
    "collapsed": false,
    "scrolled": true
   },
   "outputs": [
    {
     "name": "stdout",
     "output_type": "stream",
     "text": [
      "Successfully loaded: spendingcategory\n"
     ]
    }
   ],
   "source": [
    "# prep for load\n",
    "dfSpendingCats = dfSpendingCats.rename(columns={'TERM':'term','GRANTS':'grants'})\n",
    "# load Spending/Project terms into Mongo\n",
    "loadDF(dfSpendingCats, 'spendingcategory')\n",
    "#loadDF(dfProjectTerms, 'projectterms')"
   ]
  },
  {
   "cell_type": "markdown",
   "metadata": {},
   "source": [
    "<div style=\"background: lightgreen\">\n",
    "<h3>Model: Researchers (dfPIs)</h3>\n",
    "</div>"
   ]
  },
  {
   "cell_type": "code",
   "execution_count": 930,
   "metadata": {
    "collapsed": false
   },
   "outputs": [],
   "source": [
    "PIs = []\n",
    "for r in df[['PI_NAMES_PARSED','PI_IDS_PARSED']].iterrows():\n",
    "    namesArr = r[1][0] # get list of names\n",
    "    idArr = r[1][1] # get list of IDs\n",
    "    namesArr = [i for i in namesArr if i] # filter empties\n",
    "    idArr = [i for i in idArr if i] # filter empties\n",
    "    d = dict(zip(idArr, namesArr)) # make dict\n",
    "    for k, v in d.iteritems(): # iter through dict and drop 'contact' designator\n",
    "        PIs.append({'_id': k.rstrip(' (contact)'),'NAME':v.rstrip(' (contact)').replace('.','')})\n",
    "dfPIs = pd.DataFrame(PIs).drop_duplicates()\n",
    "dfPIs['_id'] = dfPIs._id.apply(int)\n",
    "dfPIs['NAME'] = dfPIs.NAME.apply(str)"
   ]
  },
  {
   "cell_type": "code",
   "execution_count": 931,
   "metadata": {
    "collapsed": false,
    "scrolled": true
   },
   "outputs": [],
   "source": [
    "# clean up IDS by removing \" (contact)\"\n",
    "df['PI_IDS_PARSED'] = df.PI_IDS_PARSED.apply(lambda x: [int(i.rstrip(' (contact)')) for i in x if i])"
   ]
  },
  {
   "cell_type": "code",
   "execution_count": 932,
   "metadata": {
    "collapsed": false
   },
   "outputs": [],
   "source": [
    "# mapping application_ids to dfPIs\n",
    "dfPIs['GRANTS'] = dfPIs._id.apply(int).map(lambda y: df[['APPLICATION_ID','PI_IDS_PARSED']][df.PI_IDS_PARSED.map(lambda x: y in x)].APPLICATION_ID.tolist())"
   ]
  },
  {
   "cell_type": "code",
   "execution_count": 933,
   "metadata": {
    "collapsed": true
   },
   "outputs": [],
   "source": [
    "# pi_ids already mapped due to extraction in cleaning phase, just need to clean/drop precursor cols\n",
    "df = df.rename(columns={'PI_IDS_PARSED':'PIs'}).drop(['PI_IDS','PI_NAMES_PARSED'],axis=1)"
   ]
  },
  {
   "cell_type": "code",
   "execution_count": 935,
   "metadata": {
    "collapsed": false,
    "scrolled": true
   },
   "outputs": [
    {
     "name": "stdout",
     "output_type": "stream",
     "text": [
      "Successfully loaded: researcher\n"
     ]
    }
   ],
   "source": [
    "dfPIs = dfPIs.rename(columns={'NAME':'name','GRANTS':'grants'})\n",
    "# load researchers\n",
    "loadDF(dfPIs, 'researcher')"
   ]
  },
  {
   "cell_type": "markdown",
   "metadata": {},
   "source": [
    "<div style=\"background: lightgreen\">\n",
    "<h3>Model: Organizations (dfOrgs)</h3>\n",
    "</div>\n",
    "Attributes: __ED_INST_TYPE, ORG_CITY, ORG_COUNTRY, ORG_DEPT, ORG_DISTRICT, ORG_DUNS, ORG_FIPS, ORG_NAME, ORG_STATE, ORG_ZIPCODE__"
   ]
  },
  {
   "cell_type": "code",
   "execution_count": 936,
   "metadata": {
    "collapsed": false
   },
   "outputs": [],
   "source": [
    "orgCols = ['ED_INST_TYPE','ORG_CITY','ORG_COUNTRY','ORG_DEPT','ORG_DISTRICT','ORG_DUNS','ORG_FIPS','ORG_NAME','ORG_STATE','ORG_ZIPCODE']\n",
    "orgs = df[orgCols].drop_duplicates()\n",
    "\n",
    "# unique ID used is ORG_NAME, so everything else should be collated under that\n",
    "def pivotField(arr):\n",
    "    tmp = arr.unique().tolist()\n",
    "    if len(tmp)==1:\n",
    "        return tmp[0]\n",
    "    else:\n",
    "        return tmp\n",
    "\n",
    "dfOrgs = orgs.groupby('ORG_NAME').agg(pivotField).reset_index()\\\n",
    "    .rename(columns={\n",
    "        'ORG_DUNS':'DUNS',\n",
    "        'ED_INST_TYPE':'TYPE',\n",
    "        'ORG_CITY':'CITY',\n",
    "        'ORG_COUNTRY':'COUNTRY',\n",
    "        'ORG_DEPT':'DEPARTMENT',\n",
    "        'ORG_DISTRICT':'DISTRICT',\n",
    "        'ORG_FIPS':'FIPS',\n",
    "        'ORG_NAME':'NAME',\n",
    "        'ORG_STATE':'STATE',\n",
    "        'ORG_ZIPCODE':'ZIP'\n",
    "    })\n",
    "dfOrgs = dfOrgs.reset_index().rename(columns={\"index\":\"_id\"})"
   ]
  },
  {
   "cell_type": "code",
   "execution_count": 937,
   "metadata": {
    "collapsed": false
   },
   "outputs": [],
   "source": [
    "# map APP_IDS to dfOrgs\n",
    "dfOrgs['GRANTS'] = dfOrgs.NAME.apply(lambda i: df[['APPLICATION_ID', 'ORG_NAME']][df[['APPLICATION_ID','ORG_NAME']].ORG_NAME == i].APPLICATION_ID.unique().tolist())"
   ]
  },
  {
   "cell_type": "code",
   "execution_count": 938,
   "metadata": {
    "collapsed": false
   },
   "outputs": [],
   "source": [
    "# map dfOrgs_id to df\n",
    "df = df.merge(dfOrgs[['_id','NAME']], how='left', left_on='ORG_NAME', right_on='NAME').drop('NAME', axis=1).drop(orgCols, axis=1).rename(columns={'_id':'ORGANIZATION'})"
   ]
  },
  {
   "cell_type": "code",
   "execution_count": 941,
   "metadata": {
    "collapsed": false
   },
   "outputs": [
    {
     "name": "stdout",
     "output_type": "stream",
     "text": [
      "Successfully loaded: organization\n"
     ]
    }
   ],
   "source": [
    "dfOrgs = dfOrgs.rename(columns={'NAME':'name','TYPE':'type','CITY':'city','COUNTRY':'county','DEPARTMENT':'department','DISTRICT':'district','DUNS':'duns','FIPS':'fips',\\\n",
    "                               'STATE':'state','ZIP':'zip','GRANTS':'grants'})\n",
    "# load organizations\n",
    "loadDF(dfOrgs, 'organization')"
   ]
  },
  {
   "cell_type": "markdown",
   "metadata": {},
   "source": [
    "<div style=\"background: lightgreen\">\n",
    "<h3>Model: Funders (dfICs)</h3>\n",
    "</div>\n",
    "Attributes: __IC_NAME, ADMINISTERING_IC__\n",
    "\n",
    "*See [NIH Funders Dictionary](https://www.nlm.nih.gov/bsd/grant_acronym.html) for reference*"
   ]
  },
  {
   "cell_type": "code",
   "execution_count": 965,
   "metadata": {
    "collapsed": false
   },
   "outputs": [],
   "source": [
    "dfICs = pd.read_excel('ICs.xlsx').reset_index().rename(columns={'index':'_id','Agency':'AGENCY','Grant Abbreviation':'ABBREVIATION','Acronym':'ACRONYM','Full Institute/Organization Name':'IC_NAME'})"
   ]
  },
  {
   "cell_type": "code",
   "execution_count": 967,
   "metadata": {
    "collapsed": false
   },
   "outputs": [],
   "source": [
    "# check to make sure all dfIC records are in current DF\n",
    "tmp = df.FUNDING_PARSED.map(lambda r: [i['IC'] for i in r]).tolist() # collect all ICs involved in funding rounds\n",
    "FUNDING_ABBRVS = list(set([abbrv for i in tmp for abbrv in i])) # collapse list of lists and select uniques\n",
    "sum([(i not in dfICs.ABBREVIATION.tolist())*1 for i in df.ADMINISTERING_IC.unique().tolist()]) # check to make sure all abbreviations are in the list (should be 0)"
   ]
  },
  {
   "cell_type": "code",
   "execution_count": 944,
   "metadata": {
    "collapsed": true
   },
   "outputs": [],
   "source": [
    "# map dfICs ids into df\n",
    "df = df.merge(dfICs[['_id','ABBREVIATION']], how='left', left_on='ADMINISTERING_IC', right_on='ABBREVIATION')\\\n",
    "    .drop(['ABBREVIATION','ADMINISTERING_IC','IC_NAME'], axis=1)\\\n",
    "    .rename(columns={'_id':'ADMINISTERING_IC'})"
   ]
  },
  {
   "cell_type": "code",
   "execution_count": 971,
   "metadata": {
    "collapsed": false
   },
   "outputs": [],
   "source": [
    "# map df APP_IDs to dfICs\n",
    "dfICs['ADMINISTERING_OVER'] = dfICs._id.apply(lambda ic: df[['APPLICATION_ID','ADMINISTERING_IC']][df[['APPLICATION_ID','ADMINISTERING_IC']].ADMINISTERING_IC == ic].APPLICATION_ID.unique().tolist())"
   ]
  },
  {
   "cell_type": "code",
   "execution_count": 972,
   "metadata": {
    "collapsed": true
   },
   "outputs": [],
   "source": [
    "# loading happens after funding since dfICs needs to be mapped to dfFunding records\n",
    "dfICs = dfICs.rename(columns={'AGENCY':'agency','ABBREVIATION':'abbreviation','ACRONYM':'acronym','IC_NAME':'icName','GRANTS':'grantsAdministering'})"
   ]
  },
  {
   "cell_type": "markdown",
   "metadata": {},
   "source": [
    "<div style=\"background: lightgreen\">\n",
    "<h3>Model: Funding</h3>\n",
    "</div>"
   ]
  },
  {
   "cell_type": "code",
   "execution_count": 976,
   "metadata": {
    "collapsed": false
   },
   "outputs": [],
   "source": [
    "fundings = df.reset_index().rename(columns={'index':'FUNDING_ID'})[['FUNDING_ID','APPLICATION_ID','FUNDING_PARSED']]"
   ]
  },
  {
   "cell_type": "code",
   "execution_count": 952,
   "metadata": {
    "collapsed": false,
    "scrolled": false
   },
   "outputs": [],
   "source": [
    "ids = []\n",
    "appIds = []\n",
    "fIC = []\n",
    "amt = []\n",
    "for r in fundings.iterrows():\n",
    "    for i in r[1].FUNDING_PARSED:\n",
    "        ids.append(r[1].FUNDING_ID)\n",
    "        appIds.append(r[1].APPLICATION_ID)\n",
    "        fIC.append(i['IC'])\n",
    "        amt.append(i['Cost'])\n",
    "dfFunding = pd.DataFrame(zip(ids, appIds, fIC, amt), columns=['FUNDING_ROUND','GRANTS','FUNDING_IC','FUNDING_AMOUNT']).reset_index().rename(columns={'index':'_id'})"
   ]
  },
  {
   "cell_type": "code",
   "execution_count": 953,
   "metadata": {
    "collapsed": false
   },
   "outputs": [],
   "source": [
    "# map funding IDs to df\n",
    "df['FUNDINGS'] = dfFunding.groupby('FUNDING_ROUND')['_id'].apply(lambda x: x.tolist())\n",
    "df = df.drop('FUNDING_PARSED',axis=1)\n",
    "dfFunding = dfFunding.rename(columns={'FUNDING_ROUND':'fundingRound','GRANTS':'grant','FUNDING_IC':'fundingIc','FUNDING_AMOUNT':'fundingAmount'})"
   ]
  },
  {
   "cell_type": "code",
   "execution_count": 1004,
   "metadata": {
    "collapsed": true
   },
   "outputs": [],
   "source": [
    "# remap OD acronym\n",
    "dfFunding = dfFunding.replace({'fundingIc': {'OD':'NIH-OD'}})"
   ]
  },
  {
   "cell_type": "code",
   "execution_count": 1016,
   "metadata": {
    "collapsed": false
   },
   "outputs": [],
   "source": [
    "# map dfIC ids to dfFunding\n",
    "dfFunding = dfFunding\\\n",
    "    .merge(dfICs[['_id','acronym']], how='left', left_on='fundingIc', right_on='acronym')\\\n",
    "    .drop(['fundingIc','acronym'], axis=1)\\\n",
    "    .rename(columns={'_id_y':'fundingIc','_id_x':'_id'})"
   ]
  },
  {
   "cell_type": "code",
   "execution_count": 1025,
   "metadata": {
    "collapsed": false
   },
   "outputs": [],
   "source": [
    "groupedICIds = dfFunding[['_id','fundingIc']].groupby('fundingIc')['_id'].apply(lambda x: x.tolist())"
   ]
  },
  {
   "cell_type": "code",
   "execution_count": 1039,
   "metadata": {
    "collapsed": false
   },
   "outputs": [],
   "source": [
    "dfICs = dfICs\\\n",
    "    .merge(groupedICIds.reset_index(), how='left', left_on='_id', right_on='fundingIc')\\\n",
    "    .drop('fundingIc',axis=1)\\\n",
    "    .rename(columns={'_id_x':'_id','_id_y':'fundings'})"
   ]
  },
  {
   "cell_type": "code",
   "execution_count": 1041,
   "metadata": {
    "collapsed": false
   },
   "outputs": [
    {
     "name": "stdout",
     "output_type": "stream",
     "text": [
      "Successfully loaded: funding\n",
      "Successfully loaded: institute\n"
     ]
    }
   ],
   "source": [
    "loadDF(dfFunding, 'funding')\n",
    "loadDF(dfICs, 'institute')"
   ]
  },
  {
   "cell_type": "markdown",
   "metadata": {},
   "source": [
    "<div style=\"background: lightgreen\">\n",
    "<h3>Model: Projects</h3>\n",
    "</div>"
   ]
  },
  {
   "cell_type": "code",
   "execution_count": 1042,
   "metadata": {
    "collapsed": false
   },
   "outputs": [],
   "source": [
    "dfProjects = df[['ACTIVITY','ADMINISTERING_IC','CFDA_CODE','FOA_NUMBER','SERIAL_NUMBER','SUFFIX','CORE_PROJECT_NUM','FULL_PROJECT_NUM']].drop_duplicates()\n",
    "# map APP_IDs to dfProj\n",
    "dfProjects = dfProjects.merge(\n",
    "    df[['FULL_PROJECT_NUM','APPLICATION_ID']].groupby('FULL_PROJECT_NUM')['APPLICATION_ID'].apply(lambda x: x.tolist()).reset_index(),\n",
    "    how='left')\\\n",
    "    .rename(columns={'APPLICATION_ID':'GRANTS','FULL_PROJECT_NUM':'_id'})"
   ]
  },
  {
   "cell_type": "code",
   "execution_count": 1044,
   "metadata": {
    "collapsed": true
   },
   "outputs": [],
   "source": [
    "# clean up cols\n",
    "df = df.drop(['ACTIVITY','ADMINISTERING_IC','CFDA_CODE','FOA_NUMBER','SERIAL_NUMBER','SUFFIX','CORE_PROJECT_NUM'], axis=1)"
   ]
  },
  {
   "cell_type": "code",
   "execution_count": 1047,
   "metadata": {
    "collapsed": false
   },
   "outputs": [
    {
     "name": "stdout",
     "output_type": "stream",
     "text": [
      "Successfully loaded: project\n"
     ]
    }
   ],
   "source": [
    "dfProjects = dfProjects.rename(columns={'ACTIVITY':'activity','ADMINISTERING_IC':'administeringIc','CFDA_CODE':'cfdaCode','FOA_NUMBER':'foaNumber',\\\n",
    "                                        'SERIAL_NUMBER':'serialNumber','SUFFIX':'suffix','CORE_PROJECT_NUM':'coreProjectNum','GRANTS':'grants'})\n",
    "loadDF(dfProjects, 'project')"
   ]
  },
  {
   "cell_type": "markdown",
   "metadata": {},
   "source": [
    "<div style=\"background: lightgreen\">\n",
    "<h3>Model: Grants</h3>\n",
    "</div>"
   ]
  },
  {
   "cell_type": "code",
   "execution_count": 1051,
   "metadata": {
    "collapsed": false
   },
   "outputs": [],
   "source": [
    "cols = {\n",
    " 'APPLICATION_ID': '_id',\n",
    " 'APPLICATION_TYPE': 'applicationType',\n",
    " 'ARRA_FUNDED': 'arraFunded',\n",
    " 'AWARD_NOTICE_DATE': 'awardNoticeDate',\n",
    " 'BUDGET_START':'budgetStart',\n",
    " 'BUDGET_END': 'budgetEnd',\n",
    " 'FUNDING_MECHANISM': 'fundingMechanism',\n",
    " 'FY': 'fy',\n",
    " 'PHR': 'phr',\n",
    " 'PROGRAM_OFFICER_NAME': 'programOfficerName',\n",
    " 'PROJECT_START': 'projectStart',\n",
    " 'PROJECT_END': 'projectEnd',\n",
    " 'PROJECT_TITLE': 'projectTitle',\n",
    " 'STUDY_SECTION': 'studySection',\n",
    " 'STUDY_SECTION_NAME': 'studySectionName',\n",
    " 'SUBPROJECT_ID': 'subprojectId',\n",
    " 'SUPPORT_YEAR': 'supportYear',\n",
    " 'DIRECT_COST_AMT': 'directCostAmt',\n",
    " 'INDIRECT_COST_AMT': 'indirectCostAmt',\n",
    " 'TOTAL_COST': 'totalCost',\n",
    " 'TOTAL_COST_SUB_PROJECT': 'totalCostSubProject',\n",
    " 'PROJECT_TERMS_PARSED': 'projectTerms',\n",
    " 'PIs': 'pis',\n",
    " 'SPENDING_CATEGORIES': 'spendingCategories',\n",
    " 'ORGANIZATION': 'organization',\n",
    " 'FUNDINGS': 'fundings',\n",
    " 'FULL_PROJECT_NUM': 'project'\n",
    "}"
   ]
  },
  {
   "cell_type": "code",
   "execution_count": 1061,
   "metadata": {
    "collapsed": false
   },
   "outputs": [],
   "source": [
    "# mongo can't handle NaT null type\n",
    "df[['AWARD_NOTICE_DATE', 'BUDGET_START', 'BUDGET_END', 'PROJECT_START', 'PROJECT_END']] = \\\n",
    "    df[['AWARD_NOTICE_DATE', 'BUDGET_START', 'BUDGET_END', 'PROJECT_START', 'PROJECT_END']].fillna(value=' ')\n",
    "dfGrants = df.rename(columns=cols)"
   ]
  },
  {
   "cell_type": "code",
   "execution_count": 1065,
   "metadata": {
    "collapsed": false
   },
   "outputs": [
    {
     "name": "stdout",
     "output_type": "stream",
     "text": [
      "Successfully loaded: grant\n"
     ]
    }
   ],
   "source": [
    "loadDF(dfGrants,'grant')"
   ]
  }
 ],
 "metadata": {
  "kernelspec": {
   "display_name": "Python 2",
   "language": "python",
   "name": "python2"
  },
  "language_info": {
   "codemirror_mode": {
    "name": "ipython",
    "version": 2
   },
   "file_extension": ".py",
   "mimetype": "text/x-python",
   "name": "python",
   "nbconvert_exporter": "python",
   "pygments_lexer": "ipython2",
   "version": "2.7.11"
  }
 },
 "nbformat": 4,
 "nbformat_minor": 0
}
