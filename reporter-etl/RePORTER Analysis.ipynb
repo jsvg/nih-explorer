{
 "cells": [
  {
   "cell_type": "code",
   "execution_count": 1,
   "metadata": {
    "collapsed": true
   },
   "outputs": [],
   "source": [
    "import pandas as pd"
   ]
  },
  {
   "cell_type": "code",
   "execution_count": null,
   "metadata": {
    "collapsed": true
   },
   "outputs": [],
   "source": [
    "df12raw = pd.read_excel('RePORTER_PRJ_C_FY2012.xlsx')\n",
    "df12 = df12raw\n",
    "df15raw = pd.read_excel('RePORTER_PRJ_C_FY2012.xlsx')\n",
    "df15 = df15raw"
   ]
  },
  {
   "cell_type": "code",
   "execution_count": null,
   "metadata": {
    "collapsed": true
   },
   "outputs": [],
   "source": [
    "# parse the IC names and costs into an array\n",
    "def fundingSplitter(icArray):\n",
    "    icArray = str(icArray).split('''\\\\''')\n",
    "    extractedICs = []\n",
    "    for ic in icArray:\n",
    "        if ic:\n",
    "            tmp = ic.split(''':''')\n",
    "            icName = tmp[0] if tmp[0] else ''\n",
    "            cost = tmp[1] if len(tmp)>1 else 0\n",
    "            extractedICs.append({'IC': icName, 'Cost': cost})\n",
    "    return extractedICs\n",
    "df12['FUNDING_PARSED'] = df12.FUNDING_ICs.apply(fundingSplitter)\n",
    "df15['FUNDING_PARSED'] = df15.FUNDING_ICs.apply(fundingSplitter)"
   ]
  },
  {
   "cell_type": "markdown",
   "metadata": {},
   "source": [
    "<div style=\"background: PALETURQUOISE\">\n",
    "<div style=\"text-align: center\">\n",
    "<br>\n",
    "<h1>ANALYSIS</h1>\n",
    "<h4>Explore for relationships, correlations</h4>\n",
    "<br>\n",
    "</div></div>"
   ]
  },
  {
   "cell_type": "markdown",
   "metadata": {},
   "source": [
    "### For measuring unique-ness of a column to all other columns in that DF"
   ]
  },
  {
   "cell_type": "code",
   "execution_count": null,
   "metadata": {
    "collapsed": true
   },
   "outputs": [],
   "source": [
    "df.drop(['FY','ARRA_FUNDED','FUNDING_PARSED','NIH_SPENDING_CATS_PARSED','PROJECT_TERMS_PARSED','PI_NAMES_PARSED','PI_IDS_PARSED'], axis=1)\\\n",
    "    .groupby('FULL_PROJECT_NUM')\\\n",
    "    .apply(lambda group: group.apply(lambda attr: attr.nunique()))\\\n",
    "    .apply(lambda aggdCol: float(aggdCol.sum()) / len(aggdCol))\\\n",
    "    .sort_values(ascending=False)"
   ]
  },
  {
   "cell_type": "markdown",
   "metadata": {},
   "source": [
    "### For checking if a column has >1 unique value for each FULL_PROJECT_NUM"
   ]
  },
  {
   "cell_type": "code",
   "execution_count": null,
   "metadata": {
    "collapsed": true
   },
   "outputs": [],
   "source": [
    "df[['FULL_PROJECT_NUM','FUNDING_ICs']]\\\n",
    "    .groupby('FULL_PROJECT_NUM')\\\n",
    "    .apply(lambda proj: proj['FUNDING_ICs'].nunique())\\\n",
    "    .sort_values(ascending=False)"
   ]
  },
  {
   "cell_type": "markdown",
   "metadata": {},
   "source": [
    "### Define series.map helper functions"
   ]
  },
  {
   "cell_type": "code",
   "execution_count": 4,
   "metadata": {
    "collapsed": true
   },
   "outputs": [],
   "source": [
    "# df.Series map function to help filter based on participating in funding a grant\n",
    "def filterIC(arr, IC):\n",
    "    for ic in arr:\n",
    "        return True if ic['IC'] == IC else False"
   ]
  },
  {
   "cell_type": "markdown",
   "metadata": {},
   "source": [
    "### Detemine Obligated Funds of NHLBI in FY12, FY15"
   ]
  },
  {
   "cell_type": "code",
   "execution_count": 6,
   "metadata": {
    "collapsed": false
   },
   "outputs": [
    {
     "name": "stdout",
     "output_type": "stream",
     "text": [
      "FY12"
     ]
    },
    {
     "ename": "NameError",
     "evalue": "name 'df12' is not defined",
     "output_type": "error",
     "traceback": [
      "\u001b[0;31m---------------------------------------------------------------------------\u001b[0m",
      "\u001b[0;31mNameError\u001b[0m                                 Traceback (most recent call last)",
      "\u001b[0;32m<ipython-input-6-047b9aac99c8>\u001b[0m in \u001b[0;36m<module>\u001b[0;34m()\u001b[0m\n\u001b[1;32m      6\u001b[0m         \u001b[0;32melse\u001b[0m\u001b[0;34m:\u001b[0m\u001b[0;34m\u001b[0m\u001b[0m\n\u001b[1;32m      7\u001b[0m             \u001b[0;32mreturn\u001b[0m \u001b[0;36m0\u001b[0m\u001b[0;34m\u001b[0m\u001b[0m\n\u001b[0;32m----> 8\u001b[0;31m \u001b[0;32mprint\u001b[0m \u001b[0;34m'FY12'\u001b[0m\u001b[0;34m,\u001b[0m \u001b[0mdf12\u001b[0m\u001b[0;34m.\u001b[0m\u001b[0mFUNDING_PARSED\u001b[0m\u001b[0;34m.\u001b[0m\u001b[0mmap\u001b[0m\u001b[0;34m(\u001b[0m\u001b[0;32mlambda\u001b[0m \u001b[0mr\u001b[0m\u001b[0;34m:\u001b[0m \u001b[0mcostExtraction\u001b[0m\u001b[0;34m(\u001b[0m\u001b[0mr\u001b[0m\u001b[0;34m,\u001b[0m \u001b[0;34m'NHLBI'\u001b[0m\u001b[0;34m)\u001b[0m\u001b[0;34m)\u001b[0m\u001b[0;34m.\u001b[0m\u001b[0msum\u001b[0m\u001b[0;34m(\u001b[0m\u001b[0;34m)\u001b[0m\u001b[0;34m/\u001b[0m\u001b[0;36m1E9\u001b[0m\u001b[0;34m\u001b[0m\u001b[0m\n\u001b[0m\u001b[1;32m      9\u001b[0m \u001b[0;32mprint\u001b[0m \u001b[0;34m'FY15'\u001b[0m\u001b[0;34m,\u001b[0m \u001b[0mdf15\u001b[0m\u001b[0;34m.\u001b[0m\u001b[0mFUNDING_PARSED\u001b[0m\u001b[0;34m.\u001b[0m\u001b[0mmap\u001b[0m\u001b[0;34m(\u001b[0m\u001b[0;32mlambda\u001b[0m \u001b[0mr\u001b[0m\u001b[0;34m:\u001b[0m \u001b[0mcostExtraction\u001b[0m\u001b[0;34m(\u001b[0m\u001b[0mr\u001b[0m\u001b[0;34m,\u001b[0m \u001b[0;34m'NHLBI'\u001b[0m\u001b[0;34m)\u001b[0m\u001b[0;34m)\u001b[0m\u001b[0;34m.\u001b[0m\u001b[0msum\u001b[0m\u001b[0;34m(\u001b[0m\u001b[0;34m)\u001b[0m\u001b[0;34m/\u001b[0m\u001b[0;36m1E9\u001b[0m\u001b[0;34m\u001b[0m\u001b[0m\n",
      "\u001b[0;31mNameError\u001b[0m: name 'df12' is not defined"
     ]
    }
   ],
   "source": [
    "# df.Series map function to determine an IC's participating in a grant funding\n",
    "def costExtraction(arr, IC):\n",
    "    for ic in arr:\n",
    "        if ic['IC']==IC:\n",
    "            return int(ic['Cost'])\n",
    "        else:\n",
    "            return 0\n",
    "print 'FY12', df12.FUNDING_PARSED.map(lambda r: costExtraction(r, 'NHLBI')).sum()/1E9\n",
    "print 'FY15', df15.FUNDING_PARSED.map(lambda r: costExtraction(r, 'NHLBI')).sum()/1E9"
   ]
  },
  {
   "cell_type": "markdown",
   "metadata": {},
   "source": [
    "### Determine Cross-Institute Grants Funding Collaboration"
   ]
  },
  {
   "cell_type": "code",
   "execution_count": 8,
   "metadata": {
    "collapsed": false
   },
   "outputs": [
    {
     "ename": "NameError",
     "evalue": "name 'df12' is not defined",
     "output_type": "error",
     "traceback": [
      "\u001b[0;31m---------------------------------------------------------------------------\u001b[0m",
      "\u001b[0;31mNameError\u001b[0m                                 Traceback (most recent call last)",
      "\u001b[0;32m<ipython-input-8-62521cdbf711>\u001b[0m in \u001b[0;36m<module>\u001b[0;34m()\u001b[0m\n\u001b[1;32m      1\u001b[0m \u001b[0;31m# collect unique list of IC Abbreviations\u001b[0m\u001b[0;34m\u001b[0m\u001b[0;34m\u001b[0m\u001b[0m\n\u001b[1;32m      2\u001b[0m \u001b[0mICs\u001b[0m \u001b[0;34m=\u001b[0m \u001b[0;34m[\u001b[0m\u001b[0;34m]\u001b[0m\u001b[0;34m\u001b[0m\u001b[0m\n\u001b[0;32m----> 3\u001b[0;31m \u001b[0;32mfor\u001b[0m \u001b[0mic\u001b[0m \u001b[0;32min\u001b[0m \u001b[0mdf12\u001b[0m\u001b[0;34m.\u001b[0m\u001b[0mFUNDING_PARSED\u001b[0m\u001b[0;34m.\u001b[0m\u001b[0mtolist\u001b[0m\u001b[0;34m(\u001b[0m\u001b[0;34m)\u001b[0m\u001b[0;34m:\u001b[0m\u001b[0;34m\u001b[0m\u001b[0m\n\u001b[0m\u001b[1;32m      4\u001b[0m     \u001b[0;32mfor\u001b[0m \u001b[0mi\u001b[0m \u001b[0;32min\u001b[0m \u001b[0mic\u001b[0m\u001b[0;34m:\u001b[0m\u001b[0;34m\u001b[0m\u001b[0m\n\u001b[1;32m      5\u001b[0m         \u001b[0;32mif\u001b[0m \u001b[0mi\u001b[0m\u001b[0;34m[\u001b[0m\u001b[0;34m'IC'\u001b[0m\u001b[0;34m]\u001b[0m\u001b[0;34m:\u001b[0m\u001b[0;34m\u001b[0m\u001b[0m\n",
      "\u001b[0;31mNameError\u001b[0m: name 'df12' is not defined"
     ]
    }
   ],
   "source": [
    "# collect unique list of IC Abbreviations\n",
    "ICs = []\n",
    "for ic in df12.FUNDING_PARSED.tolist():\n",
    "    for i in ic:\n",
    "        if i['IC']:\n",
    "            ICs.append(i['IC'])\n",
    "IClist = list(set(ICs))\n",
    "\n",
    "# runs calculation to return % of grants funded that an IC led\n",
    "def calc(ICNAME):\n",
    "    return [float(df12[df12.FUNDING_PARSED.map(lambda r: filterIC(r, ICNAME))].IC_NAME.value_counts().tolist()[0])\\\n",
    "    /df12[df12.FUNDING_PARSED.map(lambda r: filterIC(r, ICNAME))].IC_NAME.value_counts().sum()*100, \\\n",
    "    df12[df12.FUNDING_PARSED.map(lambda r: filterIC(r, ICNAME))].IC_NAME.value_counts()]\n",
    "\n",
    "# print results on syndicated grants\n",
    "for i in IClist:\n",
    "    x = calc(i)\n",
    "    print i\n",
    "    print x[0]\n",
    "    print x[1]\n",
    "    print '\\n'"
   ]
  }
 ],
 "metadata": {
  "kernelspec": {
   "display_name": "Python 2",
   "language": "python",
   "name": "python2"
  },
  "language_info": {
   "codemirror_mode": {
    "name": "ipython",
    "version": 2
   },
   "file_extension": ".py",
   "mimetype": "text/x-python",
   "name": "python",
   "nbconvert_exporter": "python",
   "pygments_lexer": "ipython2",
   "version": "2.7.11"
  }
 },
 "nbformat": 4,
 "nbformat_minor": 0
}
