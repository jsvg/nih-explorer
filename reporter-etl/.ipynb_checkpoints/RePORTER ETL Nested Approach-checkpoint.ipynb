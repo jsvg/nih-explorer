{
 "cells": [
  {
   "cell_type": "markdown",
   "metadata": {},
   "source": [
    "Connect to database, make loading function"
   ]
  },
  {
   "cell_type": "code",
   "execution_count": 2,
   "metadata": {
    "collapsed": true
   },
   "outputs": [],
   "source": [
    "from pymongo import MongoClient\n",
    "client = MongoClient()\n",
    "local = MongoClient(\"mongodb://localhost:27017\").reporter\n",
    "#mlab = MongoClient(\"mongodb://jv:pw@ds025379.mlab.com:25379/nihreporter\").reporter"
   ]
  },
  {
   "cell_type": "code",
   "execution_count": 3,
   "metadata": {
    "collapsed": true
   },
   "outputs": [],
   "source": [
    "def loadDF(df, collectionName, db, dropFirst=True):\n",
    "    if dropFirst:\n",
    "        db[collectionName].drop()\n",
    "    db[collectionName].insert_many(df.to_dict(orient='records'))\n",
    "    print 'Successfully loaded:', collectionName"
   ]
  },
  {
   "cell_type": "markdown",
   "metadata": {},
   "source": [
    "Get dfs ready for transformation and loading"
   ]
  },
  {
   "cell_type": "code",
   "execution_count": 4,
   "metadata": {
    "collapsed": true
   },
   "outputs": [],
   "source": [
    "import pandas as pd"
   ]
  },
  {
   "cell_type": "code",
   "execution_count": 99,
   "metadata": {
    "collapsed": false
   },
   "outputs": [],
   "source": [
    "df15links = pd.read_excel('RePORTER_PUBLNK_C_2015.xlsx')\n",
    "df15pubs = pd.read_excel('RePORTER_PUB_C_2015.xlsx')\n",
    "df15grants = pd.read_excel('RePORTER_PRJ_C_FY2015.xlsx').drop(['DIRECT_COST_AMT','INDIRECT_COST_AMT'], axis=1)\n",
    "dfLinks = df15links.copy()\n",
    "dfPubs = df15pubs.copy()\n",
    "df = df15grants.copy()"
   ]
  },
  {
   "cell_type": "markdown",
   "metadata": {},
   "source": [
    "<div style=\"background: lightgreen\">\n",
    "<h3>Grants model: Non-referential, compound doc approach</h3>\n",
    "</div>"
   ]
  },
  {
   "cell_type": "code",
   "execution_count": 113,
   "metadata": {
    "collapsed": true
   },
   "outputs": [],
   "source": [
    "# loading PMID relationships\n",
    "grantsLinkTable = dfLinks.groupby('PROJECT_NUMBER').agg(lambda pId: pId.tolist())\n",
    "df = df.merge(grantsLinkTable, how='left', left_on='CORE_PROJECT_NUM', right_index=True)"
   ]
  },
  {
   "cell_type": "code",
   "execution_count": 115,
   "metadata": {
    "collapsed": true
   },
   "outputs": [],
   "source": [
    "cols = {\n",
    " 'APPLICATION_ID': '_id',\n",
    " 'ACTIVITY': 'activity',\n",
    " 'ADMINISTERING_IC': 'administeringIc',\n",
    " 'APPLICATION_TYPE': 'applicationType',\n",
    " 'AWARD_NOTICE_DATE': 'awardNoticeDate',\n",
    " 'BUDGET_START':'budgetStart',\n",
    " 'BUDGET_END': 'budgetEnd',\n",
    " 'CORE_PROJECT_NUM': 'coreProjectNum',\n",
    " 'ED_INST_TYPE': 'edInstType',\n",
    " 'FUNDING_ICs': 'fundingIcs',\n",
    " 'FUNDING_MECHANISM': 'fundingMechanism',\n",
    " 'FY': 'fy',\n",
    " 'IC_NAME': 'icName',\n",
    " 'NIH_SPENDING_CATS': 'nihSpendingCats',\n",
    " 'ORG_CITY': 'orgCity',\n",
    " 'ORG_COUNTRY': 'orgCountry',\n",
    " 'ORG_DEPT': 'orgDept',\n",
    " 'ORG_DISTRICT': 'orgDistrict',\n",
    " 'ORG_DUNS': 'orgDuns',\n",
    " 'ORG_FIPS': 'orgFips',\n",
    " 'ORG_NAME': 'orgName',\n",
    " 'ORG_STATE': 'orgState',\n",
    " 'ORG_ZIPCODE': 'orgZip',\n",
    " 'PHR': 'phr',\n",
    " 'PI_IDS': 'piIds',\n",
    " 'PI_NAMEs': 'piNames',\n",
    " 'PROGRAM_OFFICER_NAME': 'programOfficerName',\n",
    " 'PROJECT_START': 'projectStart',\n",
    " 'PROJECT_END': 'projectEnd',\n",
    " 'PROJECT_TERMS': 'projectTerms',\n",
    " 'PROJECT_TITLE': 'projectTitle',\n",
    " 'STUDY_SECTION': 'studySection',\n",
    " 'STUDY_SECTION_NAME': 'studySectionName',\n",
    " 'SUPPORT_YEAR': 'supportYear',\n",
    " 'TOTAL_COST': 'totalCost',\n",
    " 'PMID': 'publicationIds'\n",
    "}\n",
    "dropCols = [\n",
    " 'ARRA_FUNDED',\n",
    " 'CFDA_CODE',\n",
    " 'FOA_NUMBER',\n",
    " 'FULL_PROJECT_NUM',\n",
    " 'SERIAL_NUMBER',\n",
    " 'SUFFIX',\n",
    " 'SUBPROJECT_ID',\n",
    " 'TOTAL_COST_SUB_PROJECT'\n",
    "]"
   ]
  },
  {
   "cell_type": "code",
   "execution_count": 116,
   "metadata": {
    "collapsed": false
   },
   "outputs": [],
   "source": [
    "# drop subprojects\n",
    "# rename columns to JSONAPI style\n",
    "# drop ID-like cols\n",
    "# fill NaT type since mongo can't handle that\n",
    "df = df\\\n",
    "    [df.TOTAL_COST.notnull()]\\\n",
    "    .rename(columns=cols)\\\n",
    "    .drop(dropCols, axis=1)\\\n",
    "    .fillna('')"
   ]
  },
  {
   "cell_type": "code",
   "execution_count": 117,
   "metadata": {
    "collapsed": false
   },
   "outputs": [],
   "source": [
    "# create activity type column with first letter of activity code\n",
    "df['activityType'] = df.activity.apply(lambda i: str(i)[0] if i else '')"
   ]
  },
  {
   "cell_type": "code",
   "execution_count": 118,
   "metadata": {
    "collapsed": true
   },
   "outputs": [],
   "source": [
    "# parse the IC names and costs into an array\n",
    "def fundingSplitter(icArray):\n",
    "    icArray = str(icArray).split('''\\\\''')\n",
    "    extractedICs = []\n",
    "    for ic in icArray:\n",
    "        if ic:\n",
    "            tmp = ic.split(''':''')\n",
    "            icName = tmp[0] if tmp[0] else ''\n",
    "            cost = tmp[1] if len(tmp)>1 else 0\n",
    "            extractedICs.append({'ic': icName, 'cost': cost})\n",
    "    return extractedICs\n",
    "df['fundingIcs'] = df.fundingIcs.apply(fundingSplitter)"
   ]
  },
  {
   "cell_type": "code",
   "execution_count": 119,
   "metadata": {
    "collapsed": true
   },
   "outputs": [],
   "source": [
    "def termSplitter(arr):\n",
    "    terms = str(arr).split(';') if not pd.isnull(arr) else []\n",
    "    return [term.lower().strip() for term in terms]\n",
    "df['nihSpendingCats'] = df.nihSpendingCats.map(termSplitter)\n",
    "df['projectTerms'] = df.projectTerms.map(termSplitter)\n",
    "df['piIds'] = df.piIds.map(lambda name: name.encode('utf-8')).map(termSplitter)\n",
    "df['piNames'] = df.piNames.map(lambda name: name.encode('utf-8')).map(termSplitter)"
   ]
  },
  {
   "cell_type": "code",
   "execution_count": 120,
   "metadata": {
    "collapsed": false
   },
   "outputs": [],
   "source": [
    "# fix timestamp issues w pymongo serializing improperly\n",
    "df[['awardNoticeDate','budgetStart','budgetEnd','projectStart','projectEnd']] = \\\n",
    "    df[['awardNoticeDate','budgetStart','budgetEnd','projectStart','projectEnd']].apply(lambda c: c.apply(str))"
   ]
  },
  {
   "cell_type": "code",
   "execution_count": 132,
   "metadata": {
    "collapsed": false
   },
   "outputs": [],
   "source": [
    "# m\n",
    "def reMapEmptyPubIds(pubIds):\n",
    "    if pubIds == \"\":\n",
    "        return []\n",
    "    else:\n",
    "        return pubIds\n",
    "df['publicationIds'] = df.publicationIds.map(reMapEmptyPubIds)"
   ]
  },
  {
   "cell_type": "code",
   "execution_count": 133,
   "metadata": {
    "collapsed": false,
    "scrolled": true
   },
   "outputs": [
    {
     "name": "stdout",
     "output_type": "stream",
     "text": [
      "Successfully loaded: grant\n"
     ]
    }
   ],
   "source": [
    "loadDF(df, 'grant', local)"
   ]
  },
  {
   "cell_type": "markdown",
   "metadata": {},
   "source": [
    "#### To load into mlab:\n",
    "Convert dates using:\n",
    "```\n",
    "db.grant.find({}).forEach(function(doc) { \n",
    "    doc.awardNoticeDate=new ISODate(doc.awardNoticeDate);\n",
    "    doc.projectStart=new ISODate(doc.projectStart);\n",
    "    doc.projectEnd=new ISODate(doc.projectEnd);\n",
    "    doc.budgetStart=new ISODate(doc.budgetStart);\n",
    "    doc.budgetEnd=new ISODate(doc.budgetEnd);\n",
    "    db.grant_new.save(doc);\n",
    "})\n",
    "```\n",
    "\n",
    "Then set index w:\n",
    "```\n",
    "db.grant_new.createIndex(\n",
    "    {\"$**\": \"text\"},\n",
    "    {\"weights\": \n",
    "        {\n",
    "            projectTitle: 6, icName: 5, orgName: 4, projectTerms: 3, \n",
    "            nihSpendingCats: 3, administeringIc: 2, 'fundingIcs.ic': 2, phr: 2\n",
    "        }\n",
    "    }\n",
    ")\n",
    "```"
   ]
  },
  {
   "cell_type": "code",
   "execution_count": 134,
   "metadata": {
    "collapsed": false
   },
   "outputs": [],
   "source": [
    "# drop grant, and rename grant_new to grant\n",
    "local.grant.drop()\n",
    "local.grant_new.rename('grant')"
   ]
  },
  {
   "cell_type": "markdown",
   "metadata": {},
   "source": [
    "<div style=\"background: lightgreen\">\n",
    "<h3>Pubs model: Non-referential, compound doc approach</h3>\n",
    "</div>"
   ]
  },
  {
   "cell_type": "code",
   "execution_count": 121,
   "metadata": {
    "collapsed": false
   },
   "outputs": [],
   "source": [
    "dfGrantLink = df.groupby('coreProjectNum')['_id'].agg(lambda x: x.tolist())"
   ]
  },
  {
   "cell_type": "code",
   "execution_count": 122,
   "metadata": {
    "collapsed": false
   },
   "outputs": [],
   "source": [
    "dfLinks = dfLinks\\\n",
    "    .merge(dfGrantLink.reset_index(), how='left', left_on='PROJECT_NUMBER', right_on='coreProjectNum')\\\n",
    "    .drop('coreProjectNum', axis=1)\\\n",
    "    .rename(columns={0:'projects'})"
   ]
  },
  {
   "cell_type": "code",
   "execution_count": 123,
   "metadata": {
    "collapsed": false,
    "scrolled": true
   },
   "outputs": [],
   "source": [
    "def projectArrayMaker(arrays):\n",
    "    tmp = []\n",
    "    for r in arrays:\n",
    "        if type(r)==list:\n",
    "            [tmp.append(i) for i in r]\n",
    "    return tmp\n",
    "pubsLinkTable = dfLinks.groupby('PMID')['projects'].agg(projectArrayMaker)"
   ]
  },
  {
   "cell_type": "code",
   "execution_count": 124,
   "metadata": {
    "collapsed": false
   },
   "outputs": [],
   "source": [
    "dfPubs = dfPubs.merge(pubsLinkTable.reset_index(), how='left', on='PMID')"
   ]
  },
  {
   "cell_type": "code",
   "execution_count": 125,
   "metadata": {
    "collapsed": true
   },
   "outputs": [],
   "source": [
    "pubCols = {\n",
    "    'AFFILIATION': 'affiliation',\n",
    "    'AUTHOR_LIST': 'authors',\n",
    "    'COUNTRY': 'country',\n",
    "    'ISSN': 'issn',\n",
    "    'JOURNAL_ISSUE': 'journalIssue',\n",
    "    'JOURNAL_TITLE': 'journal',\n",
    "    'JOURNAL_TITLE_ABBR': 'journalAbbr',\n",
    "    'JOURNAL_VOLUME': 'journalVol',\n",
    "    'LANG': 'lang',\n",
    "    'PAGE_NUMBER': 'page',\n",
    "    'PMC_ID': 'pmcId',\n",
    "    'PMID': '_id',\n",
    "    'PUB_DATE': 'pubDate',\n",
    "    'PUB_TITLE': 'title',\n",
    "    'PUB_YEAR': 'pubYear',\n",
    "}"
   ]
  },
  {
   "cell_type": "code",
   "execution_count": 126,
   "metadata": {
    "collapsed": true
   },
   "outputs": [],
   "source": [
    "dfPubs = dfPubs\\\n",
    "    .rename(columns=pubCols)\\\n",
    "    .fillna('')"
   ]
  },
  {
   "cell_type": "code",
   "execution_count": 127,
   "metadata": {
    "collapsed": false,
    "scrolled": true
   },
   "outputs": [],
   "source": [
    "dfPubs['authors'] = dfPubs.authors.map(lambda x: x.encode('utf-8')).map(termSplitter)"
   ]
  },
  {
   "cell_type": "code",
   "execution_count": 128,
   "metadata": {
    "collapsed": false
   },
   "outputs": [],
   "source": [
    "dfPubs['issn'] = dfPubs.issn.map(str)\n",
    "dfPubs['page'] = dfPubs.page.map(str)"
   ]
  },
  {
   "cell_type": "code",
   "execution_count": 98,
   "metadata": {
    "collapsed": false
   },
   "outputs": [
    {
     "name": "stdout",
     "output_type": "stream",
     "text": [
      "Successfully loaded: publication\n"
     ]
    }
   ],
   "source": [
    "loadDF(dfPubs, 'publication', local)"
   ]
  },
  {
   "cell_type": "markdown",
   "metadata": {},
   "source": [
    "#### To load into mlab:\n",
    "\n",
    "Set index w:\n",
    "```\n",
    "db.publication.createIndex(\n",
    "    {\"$**\": \"text\"},\n",
    "    {\"weights\": \n",
    "        {\n",
    "            title: 6, journal: 5, journalAbbr: 4, author: 3\n",
    "        }\n",
    "    }\n",
    ")\n",
    "```"
   ]
  }
 ],
 "metadata": {
  "kernelspec": {
   "display_name": "Python 2",
   "language": "python",
   "name": "python2"
  },
  "language_info": {
   "codemirror_mode": {
    "name": "ipython",
    "version": 2
   },
   "file_extension": ".py",
   "mimetype": "text/x-python",
   "name": "python",
   "nbconvert_exporter": "python",
   "pygments_lexer": "ipython2",
   "version": "2.7.11"
  }
 },
 "nbformat": 4,
 "nbformat_minor": 0
}
